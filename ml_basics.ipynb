{
 "cells": [
  {
   "cell_type": "markdown",
   "id": "2ca3f7e6",
   "metadata": {},
   "source": [
    "실습 1: train_test_split (Iris + 로지스틱 회귀)"
   ]
  },
  {
   "cell_type": "code",
   "execution_count": 2,
   "id": "1150b2a6",
   "metadata": {},
   "outputs": [
    {
     "name": "stdout",
     "output_type": "stream",
     "text": [
      "[Train] acc: 0.975\n",
      "[Test ] acc: 0.9666666666666667\n",
      "Confusion Matrix (test):\n",
      "[[10  0  0]\n",
      " [ 0  9  1]\n",
      " [ 0  0 10]]\n",
      "Classification Report (test):\n",
      "              precision    recall  f1-score   support\n",
      "\n",
      "      setosa       1.00      1.00      1.00        10\n",
      "  versicolor       1.00      0.90      0.95        10\n",
      "   virginica       0.91      1.00      0.95        10\n",
      "\n",
      "    accuracy                           0.97        30\n",
      "   macro avg       0.97      0.97      0.97        30\n",
      "weighted avg       0.97      0.97      0.97        30\n",
      "\n"
     ]
    }
   ],
   "source": [
    "from sklearn.datasets import load_iris\n",
    "from sklearn.model_selection import train_test_split\n",
    "from sklearn.linear_model import LogisticRegression\n",
    "from sklearn.metrics import accuracy_score, confusion_matrix, classification_report\n",
    "\n",
    "# 데이터 로드\n",
    "iris = load_iris()\n",
    "X, y = iris.data, iris.target # (150, 4), (150,)\n",
    "\n",
    "# 학습/테스트 분할\n",
    "X_train, X_test, y_train, y_test = train_test_split(\n",
    "  X, y,\n",
    "  test_size=0.2, # 20%를 테스트로\n",
    "  random_state=42, # 재현성\n",
    "  stratify=y, # 클래스 비율 유지(분류에서 권장)\n",
    "  shuffle=True\n",
    ")\n",
    "\n",
    "# 모델 학습\n",
    "clf = LogisticRegression(max_iter=1000)\n",
    "clf.fit(X_train, y_train)\n",
    "\n",
    "# 평가\n",
    "y_pred_train = clf.predict(X_train)\n",
    "y_pred_test = clf.predict(X_test)\n",
    "\n",
    "print(\"[Train] acc:\", accuracy_score(y_train, y_pred_train))\n",
    "print(\"[Test ] acc:\", accuracy_score(y_test, y_pred_test))\n",
    "print(\"Confusion Matrix (test):\", confusion_matrix(y_test, y_pred_test), sep='\\n')\n",
    "print(\"Classification Report (test):\", classification_report(y_test, y_pred_test, target_names=iris.target_names), sep='\\n')"
   ]
  },
  {
   "cell_type": "markdown",
   "id": "cc3e50ae",
   "metadata": {},
   "source": [
    "실습 B: cross_val_score/cross_validate (Stratified K-Fold)\n",
    "- 모델 성능을 교차검증(Cross Validation)으로 평가.\n",
    "\n",
    "- cross_val_score : 단일 지표만 계산\n",
    "- cross_validate : 여러 지표 동시에 계산"
   ]
  },
  {
   "cell_type": "code",
   "execution_count": 3,
   "id": "b015fc9f",
   "metadata": {},
   "outputs": [
    {
     "name": "stdout",
     "output_type": "stream",
     "text": [
      "   fit_time  score_time  test_accuracy  test_f1_macro\n",
      "0  0.058604    0.003989       1.000000       1.000000\n",
      "1  0.066091    0.005275       0.966667       0.966583\n",
      "2  0.051094    0.006513       0.933333       0.932660\n",
      "3  0.056609    0.004986       1.000000       1.000000\n",
      "4  0.056609    0.003989       0.933333       0.933333\n",
      "CV Accuracy: 0.967 ± 0.030\n",
      "CV F1-macro: 0.967 ± 0.030\n"
     ]
    }
   ],
   "source": [
    "from sklearn.model_selection import StratifiedKFold, cross_validate\n",
    "\n",
    "# 교차검증 설정 (Stratified: 클래스 비율 유지)\n",
    "cv = StratifiedKFold(n_splits=5, shuffle=True, random_state=42)\n",
    "\n",
    "# 여러 지표 동시에 측정 : 정확도 accuray, F1 macro\n",
    "\"\"\"\n",
    "F1 : Precision과 Recall의 조화 평균\n",
    "* Macro 평균: \"클래스별\" F1 계산해서 평균. 모든 클래스에 동일한 가중치 적용 -> 소수 클래스 성능도 똑같이 반영\n",
    "* Micro 평균: \"모든\" 샘플을 한꺼번에 보고 F1 계산. 큰 클래스의 영향 크게 받음.\n",
    "\"\"\"\n",
    "scores = cross_validate(\n",
    "  estimator=LogisticRegression(max_iter=1000), # 사용할 모델\n",
    "  X=X, y=y, # 사용할 데이터\n",
    "  cv=cv, # 교차검증 방법(StratifiedKFold)\n",
    "  scoring=[\"accuracy\", \"f1_macro\"], # 측정할 지표\n",
    "  n_jobs=-1, # CPU 병렬 처리 개수. -1이면 모든 코어 사용\n",
    "  return_train_score=False # 훈련 데이터 점수도 함께 반환할지 여부\n",
    ") # -> 각 fold마다의 성능 기록 dict 형태로 반환\n",
    "\n",
    "# 반환 형태 확인\n",
    "import pandas as pd\n",
    "df = pd.DataFrame(scores)\n",
    "print(df.head())\n",
    "\n",
    "# 결과 요약\n",
    "acc_mean, acc_std = scores[\"test_accuracy\"].mean(), scores[\"test_accuracy\"].std()\n",
    "f1m_mean, f1m_std = scores[\"test_f1_macro\"].mean(), scores[\"test_f1_macro\"].std()\n",
    "\n",
    "print(f\"CV Accuracy: {acc_mean:.3f} ± {acc_std:.3f}\")\n",
    "print(f\"CV F1-macro: {f1m_mean:.3f} ± {f1m_std:.3f}\")\n",
    "# => 일반화 성능 추정."
   ]
  },
  {
   "cell_type": "markdown",
   "id": "480c639a",
   "metadata": {},
   "source": [
    "실습 C: 회귀 예시 (California Housing + 선형회귀)"
   ]
  },
  {
   "cell_type": "code",
   "execution_count": 4,
   "id": "88f2f476",
   "metadata": {},
   "outputs": [
    {
     "name": "stdout",
     "output_type": "stream",
     "text": [
      "1.7.1\n"
     ]
    }
   ],
   "source": [
    "import sklearn\n",
    "print(sklearn.__version__)"
   ]
  },
  {
   "cell_type": "code",
   "execution_count": null,
   "id": "cabc4e6c",
   "metadata": {},
   "outputs": [
    {
     "name": "stdout",
     "output_type": "stream",
     "text": [
      "R²  (test): 0.576\n",
      "RMSE(test): 0.746\n"
     ]
    }
   ],
   "source": [
    "from sklearn.datasets import fetch_california_housing\n",
    "from sklearn.linear_model import LinearRegression\n",
    "from sklearn.metrics import root_mean_squared_error, r2_score\n",
    "\n",
    "# 데이터 로드\n",
    "cal = fetch_california_housing() # 단위 : 십만달러($100,000)\n",
    "Xr, yr = cal.data, cal.target\n",
    "\n",
    "# 분할\n",
    "Xr_tr, Xr_te, yr_tr, yr_te = train_test_split(\n",
    "  Xr, yr, test_size=0.2, random_state=42, shuffle=True\n",
    ")\n",
    "\n",
    "# 학습\n",
    "reg = LinearRegression()\n",
    "reg.fit(Xr_tr, yr_tr)\n",
    "\n",
    "# 평가\n",
    "\"\"\"\n",
    "회귀 모델에서 자주 쓰는 지표\n",
    "1. R² = 결정계수(Coefficient of Determination)\n",
    "  : \"모델이 데이터를 얼마나 잘 설명하는가\"를 0~1 사이 값으로 표현\n",
    "    -> 즉, 모델이 그냥 평균값 예측보다 얼마나 나은가\n",
    "  - R² = 1 : 예측 완벽\n",
    "  - R² = 0 : 평균낸 거랑 차이 없음\n",
    "  - R² < 0 : 차라리 평균내는 게 나음\n",
    "2. RMSE(Root Mean Squared Error, 평균제곱근오차)\n",
    "  : 예측값과 실제값 차이를 오차 크기의 평균로 표현\n",
    "    ex) 집값 예측에서 RMSE = 50,000 -> 예측이 평균적으로 ±5만달러 정도의 오차가 있다\n",
    "  \n",
    "=> R²는 상대적 지표, RMSE는 절대적 지표\n",
    "따라서, 둘 다 같이 봄\n",
    "- R²가 높다 == 데이터 패턴 잘 설명한다 (평균보다 얼마나 잘했는지)\n",
    "- RMSE 낮다 == 실제 오차 크기가 작다 (평균적으로 얼마나 틀렸는지)\n",
    "\"\"\"\n",
    "yr_pred = reg.predict(Xr_te)\n",
    "r2 = r2_score(yr_te, yr_pred)\n",
    "rmse = root_mean_squared_error(yr_te, yr_pred)\n",
    "\n",
    "print(\"R²  (test):\", r2)\n",
    "print(\"RMSE(test):\", rmse)"
   ]
  }
 ],
 "metadata": {
  "kernelspec": {
   "display_name": "ai-dp-ml",
   "language": "python",
   "name": "python3"
  },
  "language_info": {
   "codemirror_mode": {
    "name": "ipython",
    "version": 3
   },
   "file_extension": ".py",
   "mimetype": "text/x-python",
   "name": "python",
   "nbconvert_exporter": "python",
   "pygments_lexer": "ipython3",
   "version": "3.11.13"
  }
 },
 "nbformat": 4,
 "nbformat_minor": 5
}
